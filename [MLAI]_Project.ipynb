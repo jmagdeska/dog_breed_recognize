{
  "nbformat": 4,
  "nbformat_minor": 0,
  "metadata": {
    "colab": {
      "name": "[MLAI] Project",
      "provenance": [],
      "collapsed_sections": []
    },
    "kernelspec": {
      "name": "python3",
      "display_name": "Python 3"
    }
  },
  "cells": [
    {
      "cell_type": "markdown",
      "metadata": {
        "id": "ennTzcMfWbr1",
        "colab_type": "text"
      },
      "source": [
        "**Environment**"
      ]
    },
    {
      "cell_type": "code",
      "metadata": {
        "id": "nfcSocyz7xLI",
        "colab_type": "code",
        "colab": {}
      },
      "source": [
        "!pip3 install 'keras'"
      ],
      "execution_count": 0,
      "outputs": []
    },
    {
      "cell_type": "markdown",
      "metadata": {
        "id": "oPrgriK6W2Bn",
        "colab_type": "text"
      },
      "source": [
        "**Libraries**"
      ]
    },
    {
      "cell_type": "code",
      "metadata": {
        "id": "Z6ARo3gOW3tb",
        "colab_type": "code",
        "colab": {}
      },
      "source": [
        "import keras\n",
        "jana\n",
        "changed\n",
        "this\n"
      ],
      "execution_count": 0,
      "outputs": []
    }
  ]
}