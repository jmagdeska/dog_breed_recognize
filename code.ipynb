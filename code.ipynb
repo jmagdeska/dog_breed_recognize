{
  "nbformat": 4,
  "nbformat_minor": 0,
  "metadata": {
    "colab": {
      "name": "Copy of Copy of [MLAI] Project v2",
      "provenance": [],
      "collapsed_sections": [],
      "include_colab_link": true
    },
    "kernelspec": {
      "name": "python3",
      "display_name": "Python 3"
    },
    "accelerator": "GPU"
  },
  "cells": [
    {
      "cell_type": "markdown",
      "metadata": {
        "id": "view-in-github",
        "colab_type": "text"
      },
      "source": [
        "<a href=\"https://colab.research.google.com/github/jmagdeska/mlai/blob/master/%5BMLAI%5D_Project.ipynb\" target=\"_parent\"><img src=\"https://colab.research.google.com/assets/colab-badge.svg\" alt=\"Open In Colab\"/></a>"
      ]
    },
    {
      "cell_type": "markdown",
      "metadata": {
        "id": "ennTzcMfWbr1",
        "colab_type": "text"
      },
      "source": [
        "\n",
        "**Install requirements**"
      ]
    },
    {
      "cell_type": "code",
      "metadata": {
        "id": "nfcSocyz7xLI",
        "colab_type": "code",
        "outputId": "63717b7f-8766-4e03-d2a9-6badaac84b56",
        "colab": {
          "base_uri": "https://localhost:8080/",
          "height": 377
        }
      },
      "source": [
        "!pip3 install 'keras'\n",
        "!pip3 install 'seaborn'"
      ],
      "execution_count": 24,
      "outputs": [
        {
          "output_type": "stream",
          "text": [
            "Requirement already satisfied: keras in /usr/local/lib/python3.6/dist-packages (2.2.5)\n",
            "Requirement already satisfied: six>=1.9.0 in /usr/local/lib/python3.6/dist-packages (from keras) (1.12.0)\n",
            "Requirement already satisfied: keras-preprocessing>=1.1.0 in /usr/local/lib/python3.6/dist-packages (from keras) (1.1.0)\n",
            "Requirement already satisfied: h5py in /usr/local/lib/python3.6/dist-packages (from keras) (2.8.0)\n",
            "Requirement already satisfied: keras-applications>=1.0.8 in /usr/local/lib/python3.6/dist-packages (from keras) (1.0.8)\n",
            "Requirement already satisfied: scipy>=0.14 in /usr/local/lib/python3.6/dist-packages (from keras) (1.4.1)\n",
            "Requirement already satisfied: numpy>=1.9.1 in /usr/local/lib/python3.6/dist-packages (from keras) (1.17.5)\n",
            "Requirement already satisfied: pyyaml in /usr/local/lib/python3.6/dist-packages (from keras) (3.13)\n",
            "Requirement already satisfied: seaborn in /usr/local/lib/python3.6/dist-packages (0.10.0)\n",
            "Requirement already satisfied: scipy>=1.0.1 in /usr/local/lib/python3.6/dist-packages (from seaborn) (1.4.1)\n",
            "Requirement already satisfied: matplotlib>=2.1.2 in /usr/local/lib/python3.6/dist-packages (from seaborn) (3.1.3)\n",
            "Requirement already satisfied: pandas>=0.22.0 in /usr/local/lib/python3.6/dist-packages (from seaborn) (0.25.3)\n",
            "Requirement already satisfied: numpy>=1.13.3 in /usr/local/lib/python3.6/dist-packages (from seaborn) (1.17.5)\n",
            "Requirement already satisfied: python-dateutil>=2.1 in /usr/local/lib/python3.6/dist-packages (from matplotlib>=2.1.2->seaborn) (2.6.1)\n",
            "Requirement already satisfied: cycler>=0.10 in /usr/local/lib/python3.6/dist-packages (from matplotlib>=2.1.2->seaborn) (0.10.0)\n",
            "Requirement already satisfied: pyparsing!=2.0.4,!=2.1.2,!=2.1.6,>=2.0.1 in /usr/local/lib/python3.6/dist-packages (from matplotlib>=2.1.2->seaborn) (2.4.6)\n",
            "Requirement already satisfied: kiwisolver>=1.0.1 in /usr/local/lib/python3.6/dist-packages (from matplotlib>=2.1.2->seaborn) (1.1.0)\n",
            "Requirement already satisfied: pytz>=2017.2 in /usr/local/lib/python3.6/dist-packages (from pandas>=0.22.0->seaborn) (2018.9)\n",
            "Requirement already satisfied: six>=1.5 in /usr/local/lib/python3.6/dist-packages (from python-dateutil>=2.1->matplotlib>=2.1.2->seaborn) (1.12.0)\n",
            "Requirement already satisfied: setuptools in /usr/local/lib/python3.6/dist-packages (from kiwisolver>=1.0.1->matplotlib>=2.1.2->seaborn) (45.1.0)\n"
          ],
          "name": "stdout"
        }
      ]
    },
    {
      "cell_type": "markdown",
      "metadata": {
        "id": "-jz3SXYtGkSl",
        "colab_type": "text"
      },
      "source": [
        "**Import libraries**"
      ]
    },
    {
      "cell_type": "code",
      "metadata": {
        "id": "CyWOQ7ceGlkX",
        "colab_type": "code",
        "colab": {}
      },
      "source": [
        "import os\n",
        "import sys\n",
        "import shutil\n",
        "import h5py\n",
        "import numpy as np\n",
        "import pandas as pd\n",
        "from random import shuffle\n",
        "\n",
        "from keras import layers\n",
        "import keras.backend as K\n",
        "from keras import optimizers\n",
        "from keras import applications\n",
        "from keras.models import Model\n",
        "from keras.utils import plot_model\n",
        "from keras.models import Sequential\n",
        "from keras.utils import layer_utils\n",
        "from keras.utils import to_categorical\n",
        "from keras.callbacks import ModelCheckpoint\n",
        "from keras.utils.data_utils import get_file\n",
        "from keras.utils.vis_utils import model_to_dot\n",
        "from keras.applications.imagenet_utils import preprocess_input\n",
        "from keras.preprocessing.image import ImageDataGenerator, load_img, img_to_array, array_to_img\n",
        "from keras.layers import Input, Dense, Activation, ZeroPadding2D, BatchNormalization, Flatten, Conv2D\n",
        "from keras.layers import AveragePooling2D, MaxPooling2D, Dropout, GlobalMaxPooling2D, GlobalAveragePooling2D\n",
        "\n",
        "from keras.applications import xception\n",
        "from keras.applications import InceptionResNetV2\n",
        "from keras.applications import vgg16\n",
        "from keras.applications import resnet\n",
        "\n",
        "import pydot\n",
        "import seaborn as sns\n",
        "from IPython.display import SVG\n",
        "import matplotlib.pyplot as plt\n",
        "from sklearn.model_selection import train_test_split\n",
        "from sklearn.metrics import confusion_matrix, classification_report\n",
        "\n",
        "np.random.seed(1000)\n",
        "K.set_image_data_format('channels_last')"
      ],
      "execution_count": 0,
      "outputs": []
    },
    {
      "cell_type": "markdown",
      "metadata": {
        "id": "m4qpyEO6I7zG",
        "colab_type": "text"
      },
      "source": [
        "**Parameters**"
      ]
    },
    {
      "cell_type": "code",
      "metadata": {
        "id": "-AZQsx9UI9TX",
        "colab_type": "code",
        "colab": {}
      },
      "source": [
        "BATCH_SIZE = 64\n",
        "NUM_EPOCHS = 20\n",
        "NUM_CLASSES = 120"
      ],
      "execution_count": 0,
      "outputs": []
    },
    {
      "cell_type": "markdown",
      "metadata": {
        "id": "on6-T32ai4Te",
        "colab_type": "text"
      },
      "source": [
        "**Utility Functions**"
      ]
    },
    {
      "cell_type": "code",
      "metadata": {
        "id": "zbXa_Qc5i8lx",
        "colab_type": "code",
        "colab": {}
      },
      "source": [
        "def create_model():\n",
        "  model = Sequential()\n",
        "  model.add(BatchNormalization(input_shape=(224, 224, 3)))\n",
        "  model.add(Conv2D(filters=16, kernel_size=3, kernel_initializer='he_normal', activation='relu'))\n",
        "  model.add(MaxPooling2D(pool_size=2))\n",
        "  model.add(BatchNormalization())\n",
        "\n",
        "  model.add(Conv2D(filters=32, kernel_size=3, kernel_initializer='he_normal', activation='relu'))\n",
        "  model.add(MaxPooling2D(pool_size=2))\n",
        "  model.add(BatchNormalization())\n",
        "\n",
        "  model.add(Conv2D(filters=64, kernel_size=3, kernel_initializer='he_normal', activation='relu'))\n",
        "  model.add(MaxPooling2D(pool_size=2))\n",
        "  model.add(BatchNormalization())\n",
        "\n",
        "  model.add(Conv2D(filters=128, kernel_size=3, kernel_initializer='he_normal', activation='relu'))\n",
        "  model.add(MaxPooling2D(pool_size=2))\n",
        "  model.add(BatchNormalization())\n",
        "\n",
        "  model.add(Conv2D(filters=256, kernel_size=3, kernel_initializer='he_normal', activation='relu'))\n",
        "  model.add(MaxPooling2D(pool_size=2))\n",
        "  model.add(BatchNormalization())\n",
        "\n",
        "  # model.add(GlobalAveragePooling2D())\n",
        "\n",
        "  model.add(Flatten())\n",
        "  model.add(Dense(1024, activation='relu'))\n",
        "  model.add(Dropout(0.5))\n",
        "  model.add(Dense(NUM_CLASSES, activation='softmax'))\n",
        "\n",
        "  model.summary()\n",
        "\n",
        "  return model"
      ],
      "execution_count": 0,
      "outputs": []
    },
    {
      "cell_type": "code",
      "metadata": {
        "id": "p3MOQGyLzYoH",
        "colab_type": "code",
        "colab": {}
      },
      "source": [
        "shutil.rmtree(\"train\")\n",
        "shutil.rmtree(\"test\")\n",
        "shutil.rmtree(\"valid\")\n",
        "shutil.rmtree(\"mlai\")"
      ],
      "execution_count": 0,
      "outputs": []
    },
    {
      "cell_type": "markdown",
      "metadata": {
        "id": "bHiId7xUeJpT",
        "colab_type": "text"
      },
      "source": [
        "**Dataset preparation**"
      ]
    },
    {
      "cell_type": "code",
      "metadata": {
        "id": "RrmQ5xfseM8-",
        "colab_type": "code",
        "outputId": "b388866c-a258-4e4b-9b32-db7094e05a41",
        "colab": {
          "base_uri": "https://localhost:8080/",
          "height": 153
        }
      },
      "source": [
        "# Clone github repository with data\n",
        "if not os.path.isdir('./mlai/Images'):\n",
        "  !git clone https://github.com/jmagdeska/mlai.git\n",
        "\n",
        "DATA_DIR = 'mlai/Images'\n",
        "class_samples = []\n",
        "class_names = []\n",
        "\n",
        "if not os.path.isdir('train'):\n",
        "  os.mkdir('train')\n",
        "if not os.path.isdir('valid'):\n",
        "  os.mkdir('valid')\n",
        "if not os.path.isdir('test'):\n",
        "  os.mkdir('test')\n",
        "\n",
        "for path, dirs, files in os.walk(DATA_DIR):\n",
        "  dirs.sort(key = lambda x: x.lower())\n",
        "  num_samples = len(files)  \n",
        "  i = 0\n",
        "  \n",
        "  l = (int)(0.8*num_samples)\n",
        "  if l != 0:  \n",
        "    class_samples.append(num_samples)\n",
        "    train_len = int(0.8*l)\n",
        "    valid_len = l - train_len\n",
        "    test_len = num_samples - l\n",
        "\n",
        "    label = path.split(\"/\")[2]\n",
        "    class_names.append(label.split(\"-\")[1])\n",
        "    shuffle(files)\n",
        "    for filename in files: \n",
        "      full_path = os.path.join(path, filename)       \n",
        "      if i < train_len:   \n",
        "        split = 'train'     \n",
        "      elif i < (train_len + valid_len):\n",
        "        split = 'valid'\n",
        "      else:\n",
        "        split = 'test'\n",
        "      \n",
        "      dir_name = os.path.join(split, label)\n",
        "      if not os.path.isdir(dir_name):\n",
        "        os.mkdir(os.path.join(split, label))\n",
        "      shutil.move(full_path, dir_name)\n",
        "\n",
        "      i += 1  "
      ],
      "execution_count": 6,
      "outputs": [
        {
          "output_type": "stream",
          "text": [
            "Cloning into 'mlai'...\n",
            "remote: Enumerating objects: 52, done.\u001b[K\n",
            "remote: Counting objects: 100% (52/52), done.\u001b[K\n",
            "remote: Compressing objects: 100% (52/52), done.\u001b[K\n",
            "remote: Total 41164 (delta 19), reused 3 (delta 0), pack-reused 41112\u001b[K\n",
            "Receiving objects: 100% (41164/41164), 1.38 GiB | 44.09 MiB/s, done.\n",
            "Resolving deltas: 100% (19/19), done.\n",
            "Checking out files: 100% (20583/20583), done.\n"
          ],
          "name": "stdout"
        }
      ]
    },
    {
      "cell_type": "markdown",
      "metadata": {
        "id": "3jph4evO4wF1",
        "colab_type": "text"
      },
      "source": [
        "**Plot class distribution**"
      ]
    },
    {
      "cell_type": "code",
      "metadata": {
        "id": "KmmfCety0tqV",
        "colab_type": "code",
        "colab": {}
      },
      "source": [
        "index = np.arange(len(class_names))\n",
        "fig = plt.figure(figsize=(20,8))\n",
        "plt.bar(index, class_samples)\n",
        "plt.ylabel('Number of samples', fontsize=5)\n",
        "plt.xlabel('Dog breeds', fontsize=5)\n",
        "plt.xticks(index, class_names, rotation=90)\n",
        "plt.title('Number of samples per dog breed')\n",
        "plt.show()"
      ],
      "execution_count": 0,
      "outputs": []
    },
    {
      "cell_type": "markdown",
      "metadata": {
        "id": "P05uaVocgcyy",
        "colab_type": "text"
      },
      "source": [
        "**Dataset and Dataloader Preparation**"
      ]
    },
    {
      "cell_type": "code",
      "metadata": {
        "id": "YDLOEt73gsa-",
        "colab_type": "code",
        "outputId": "dd06014e-f221-4d84-e2a0-b724cba4b6fe",
        "colab": {
          "base_uri": "https://localhost:8080/",
          "height": 68
        }
      },
      "source": [
        "TRAIN_DIR = './train'\n",
        "VALID_DIR = './valid'\n",
        "TEST_DIR = './test'\n",
        "\n",
        "datagen_train = ImageDataGenerator(rescale=1./255, shear_range=0.2, zoom_range=0.2, horizontal_flip=True)\n",
        "datagen_test = ImageDataGenerator(rescale=1./255)\n",
        "\n",
        "generator_train = datagen_train.flow_from_directory(TRAIN_DIR, target_size=(224,224), batch_size=BATCH_SIZE, shuffle=True, class_mode='categorical')\n",
        "generator_valid = datagen_test.flow_from_directory(VALID_DIR, target_size=(224, 224), batch_size=BATCH_SIZE, shuffle=True, class_mode='categorical')\n",
        "generator_test = datagen_test.flow_from_directory(TEST_DIR, target_size=(224, 224), class_mode='categorical')"
      ],
      "execution_count": 18,
      "outputs": [
        {
          "output_type": "stream",
          "text": [
            "Found 13091 images belonging to 120 classes.\n",
            "Found 3327 images belonging to 120 classes.\n",
            "Found 4162 images belonging to 120 classes.\n"
          ],
          "name": "stdout"
        }
      ]
    },
    {
      "cell_type": "markdown",
      "metadata": {
        "id": "Gtb5tW7bNT5z",
        "colab_type": "text"
      },
      "source": [
        "**Preview Data augmentation**"
      ]
    },
    {
      "cell_type": "code",
      "metadata": {
        "id": "xS235qzMNYsj",
        "colab_type": "code",
        "colab": {}
      },
      "source": [
        "shutil.rmtree(\"preview\")\n",
        "img = load_img('/content/train/n02099601-golden_retriever/n02099601_3004.jpg')\n",
        "x = img_to_array(img)\n",
        "x = x.reshape((1,) + x.shape) \n",
        "os.mkdir(\"preview\")\n",
        "\n",
        "i = 0\n",
        "for batch in datagen_train.flow(x, batch_size=1,\n",
        "                          save_to_dir='preview', save_prefix='augm'):\n",
        "    i += 1\n",
        "    if i > 5:\n",
        "        break\n",
        "\n",
        "j = 0\n",
        "folder = \"preview\"\n",
        "images = os.listdir(folder)\n",
        "plt.figure(figsize=[14,10]) \n",
        "for image in images:\n",
        "    plt.subplot(2,3,j+1)\n",
        "    im = plt.imread(folder+\"/\"+image)\n",
        "    j+=1\n",
        "    imgplot = plt.imshow(im)\n",
        "plt.show()"
      ],
      "execution_count": 0,
      "outputs": []
    },
    {
      "cell_type": "markdown",
      "metadata": {
        "id": "2VF9HItToMGA",
        "colab_type": "text"
      },
      "source": [
        "**Training with Custom model**"
      ]
    },
    {
      "cell_type": "code",
      "metadata": {
        "id": "Q9JjmJPgoNk5",
        "colab_type": "code",
        "outputId": "d8dfcce7-6b27-4d1c-f642-ec86239fbe6b",
        "colab": {
          "base_uri": "https://localhost:8080/",
          "height": 1000
        }
      },
      "source": [
        "# ######## Custom model #########\n",
        "my_model = create_model()\n",
        " \n",
        "my_model.compile(loss='categorical_crossentropy',\n",
        "              optimizer=optimizers.SGD(lr=1e-3, decay=1e-6, momentum=0.9),\n",
        "              metrics=['acc'])\n",
        "history = my_model.fit_generator(generator_train, validation_data=generator_valid, epochs=NUM_EPOCHS,\n",
        "                                    steps_per_epoch=generator_train.samples//BATCH_SIZE, \n",
        "                                    validation_steps=generator_valid.samples//BATCH_SIZE)                          "
      ],
      "execution_count": 19,
      "outputs": [
        {
          "output_type": "stream",
          "text": [
            "Model: \"sequential_4\"\n",
            "_________________________________________________________________\n",
            "Layer (type)                 Output Shape              Param #   \n",
            "=================================================================\n",
            "batch_normalization_20 (Batc (None, 224, 224, 3)       12        \n",
            "_________________________________________________________________\n",
            "conv2d_16 (Conv2D)           (None, 222, 222, 16)      448       \n",
            "_________________________________________________________________\n",
            "max_pooling2d_16 (MaxPooling (None, 111, 111, 16)      0         \n",
            "_________________________________________________________________\n",
            "batch_normalization_21 (Batc (None, 111, 111, 16)      64        \n",
            "_________________________________________________________________\n",
            "conv2d_17 (Conv2D)           (None, 109, 109, 32)      4640      \n",
            "_________________________________________________________________\n",
            "max_pooling2d_17 (MaxPooling (None, 54, 54, 32)        0         \n",
            "_________________________________________________________________\n",
            "batch_normalization_22 (Batc (None, 54, 54, 32)        128       \n",
            "_________________________________________________________________\n",
            "conv2d_18 (Conv2D)           (None, 52, 52, 64)        18496     \n",
            "_________________________________________________________________\n",
            "max_pooling2d_18 (MaxPooling (None, 26, 26, 64)        0         \n",
            "_________________________________________________________________\n",
            "batch_normalization_23 (Batc (None, 26, 26, 64)        256       \n",
            "_________________________________________________________________\n",
            "conv2d_19 (Conv2D)           (None, 24, 24, 128)       73856     \n",
            "_________________________________________________________________\n",
            "max_pooling2d_19 (MaxPooling (None, 12, 12, 128)       0         \n",
            "_________________________________________________________________\n",
            "batch_normalization_24 (Batc (None, 12, 12, 128)       512       \n",
            "_________________________________________________________________\n",
            "conv2d_20 (Conv2D)           (None, 10, 10, 256)       295168    \n",
            "_________________________________________________________________\n",
            "max_pooling2d_20 (MaxPooling (None, 5, 5, 256)         0         \n",
            "_________________________________________________________________\n",
            "batch_normalization_25 (Batc (None, 5, 5, 256)         1024      \n",
            "_________________________________________________________________\n",
            "flatten_3 (Flatten)          (None, 6400)              0         \n",
            "_________________________________________________________________\n",
            "dense_6 (Dense)              (None, 1024)              6554624   \n",
            "_________________________________________________________________\n",
            "dropout_3 (Dropout)          (None, 1024)              0         \n",
            "_________________________________________________________________\n",
            "dense_7 (Dense)              (None, 120)               123000    \n",
            "=================================================================\n",
            "Total params: 7,072,228\n",
            "Trainable params: 7,071,230\n",
            "Non-trainable params: 998\n",
            "_________________________________________________________________\n",
            "Epoch 1/20\n",
            "204/204 [==============================] - 170s 834ms/step - loss: 5.4462 - acc: 0.0235 - val_loss: 4.6542 - val_acc: 0.0404\n",
            "Epoch 2/20\n",
            "204/204 [==============================] - 171s 836ms/step - loss: 4.7980 - acc: 0.0453 - val_loss: 4.4444 - val_acc: 0.0564\n",
            "Epoch 3/20\n",
            "204/204 [==============================] - 170s 833ms/step - loss: 4.5004 - acc: 0.0663 - val_loss: 4.2837 - val_acc: 0.0809\n",
            "Epoch 4/20\n",
            "204/204 [==============================] - 169s 829ms/step - loss: 4.3053 - acc: 0.0855 - val_loss: 4.1519 - val_acc: 0.0938\n",
            "Epoch 5/20\n",
            "204/204 [==============================] - 168s 824ms/step - loss: 4.1275 - acc: 0.1031 - val_loss: 4.1572 - val_acc: 0.1063\n",
            "Epoch 6/20\n",
            "204/204 [==============================] - 167s 820ms/step - loss: 4.0015 - acc: 0.1175 - val_loss: 4.1126 - val_acc: 0.1021\n",
            "Epoch 7/20\n",
            "204/204 [==============================] - 168s 821ms/step - loss: 3.8862 - acc: 0.1370 - val_loss: 4.0619 - val_acc: 0.1100\n",
            "Epoch 8/20\n",
            "204/204 [==============================] - 167s 820ms/step - loss: 3.7696 - acc: 0.1489 - val_loss: 3.9868 - val_acc: 0.1235\n",
            "Epoch 9/20\n",
            "204/204 [==============================] - 167s 818ms/step - loss: 3.6370 - acc: 0.1682 - val_loss: 3.9973 - val_acc: 0.1198\n",
            "Epoch 10/20\n",
            "204/204 [==============================] - 167s 816ms/step - loss: 3.5713 - acc: 0.1814 - val_loss: 3.9571 - val_acc: 0.1321\n",
            "Epoch 11/20\n",
            "204/204 [==============================] - 166s 815ms/step - loss: 3.4580 - acc: 0.1972 - val_loss: 3.9899 - val_acc: 0.1302\n",
            "Epoch 12/20\n",
            "204/204 [==============================] - 166s 816ms/step - loss: 3.3753 - acc: 0.2073 - val_loss: 3.9477 - val_acc: 0.1315\n",
            "Epoch 13/20\n",
            "204/204 [==============================] - 166s 813ms/step - loss: 3.2973 - acc: 0.2257 - val_loss: 3.9430 - val_acc: 0.1293\n",
            "Epoch 14/20\n",
            "204/204 [==============================] - 167s 817ms/step - loss: 3.1933 - acc: 0.2386 - val_loss: 3.8737 - val_acc: 0.1373\n",
            "Epoch 15/20\n",
            "204/204 [==============================] - 166s 815ms/step - loss: 3.1275 - acc: 0.2476 - val_loss: 3.8962 - val_acc: 0.1361\n",
            "Epoch 16/20\n",
            "204/204 [==============================] - 167s 820ms/step - loss: 3.0571 - acc: 0.2610 - val_loss: 3.8746 - val_acc: 0.1330\n",
            "Epoch 17/20\n",
            "204/204 [==============================] - 166s 815ms/step - loss: 2.9717 - acc: 0.2821 - val_loss: 3.9013 - val_acc: 0.1443\n",
            "Epoch 18/20\n",
            "204/204 [==============================] - 167s 817ms/step - loss: 2.9051 - acc: 0.2935 - val_loss: 3.8360 - val_acc: 0.1486\n",
            "Epoch 19/20\n",
            "204/204 [==============================] - 166s 812ms/step - loss: 2.8365 - acc: 0.3078 - val_loss: 3.8888 - val_acc: 0.1502\n",
            "Epoch 20/20\n",
            "204/204 [==============================] - 167s 816ms/step - loss: 2.7785 - acc: 0.3099 - val_loss: 3.8011 - val_acc: 0.1621\n"
          ],
          "name": "stdout"
        }
      ]
    },
    {
      "cell_type": "markdown",
      "metadata": {
        "id": "B11ux4x9NSh8",
        "colab_type": "text"
      },
      "source": [
        "**Training with Resnet101 with Inception v4**"
      ]
    },
    {
      "cell_type": "code",
      "metadata": {
        "id": "RfpOLPuCNZET",
        "colab_type": "code",
        "colab": {}
      },
      "source": [
        "######## pretrained InceptionResNetV2 model ########\n",
        "base_model = InceptionResNetV2(weights='imagenet', include_top=False, input_shape=(224, 224, 3))\n",
        "\n",
        "my_model = Sequential()\n",
        "my_model.add(base_model)\n",
        "\n",
        "# Add new layers\n",
        "my_model.add(Flatten())\n",
        "my_model.add(Dense(1024, activation='relu'))\n",
        "my_model.add(Dropout(0.5))\n",
        "my_model.add(Dense(NUM_CLASSES, activation='softmax'))\n",
        "base_model.trainable = False\n",
        "\n",
        "# my_model.compile(loss='categorical_crossentropy',\n",
        "#               optimizer=optimizers.Adam(lr=0.0001),\n",
        "#               metrics=['acc'])\n",
        "my_model.compile(loss='categorical_crossentropy',\n",
        "              optimizer=optimizers.SGD(lr=1e-3, decay=1e-6, momentum=0.9),\n",
        "              metrics=['acc'])\n",
        "history = my_model.fit_generator(generator_train, validation_data=generator_valid, epochs=NUM_EPOCHS,\n",
        "                                    steps_per_epoch=generator_train.samples//BATCH_SIZE, \n",
        "                                    validation_steps=generator_valid.samples//BATCH_SIZE)                          "
      ],
      "execution_count": 0,
      "outputs": []
    },
    {
      "cell_type": "markdown",
      "metadata": {
        "id": "j9oQojfPIfDg",
        "colab_type": "text"
      },
      "source": [
        "**Plot loss and accuracy**"
      ]
    },
    {
      "cell_type": "code",
      "metadata": {
        "id": "k7EjBse2IjEk",
        "colab_type": "code",
        "outputId": "403f7a6b-de75-44a2-b329-6f21a2d69407",
        "colab": {
          "base_uri": "https://localhost:8080/",
          "height": 573
        }
      },
      "source": [
        "# Plot training & validation accuracy values\n",
        "plt.plot(history.history['acc'])\n",
        "plt.plot(history.history['val_acc'])\n",
        "plt.title('Model accuracy')\n",
        "plt.ylabel('Accuracy')\n",
        "plt.xlabel('Epoch')\n",
        "plt.legend(['Train', 'Validation'], loc='lower right')\n",
        "plt.show()\n",
        "\n",
        "# Plot training & validation loss values\n",
        "plt.plot(history.history['loss'])\n",
        "plt.plot(history.history['val_loss'])\n",
        "plt.title('Model loss')\n",
        "plt.ylabel('Loss')\n",
        "plt.xlabel('Epoch')\n",
        "plt.legend(['Train', 'Validation'], loc='upper right')\n",
        "plt.show()"
      ],
      "execution_count": 22,
      "outputs": [
        {
          "output_type": "display_data",
          "data": {
            "image/png": "[encoded data removed]",
            "text/plain": [
              "<Figure size 432x288 with 1 Axes>"
            ]
          },
          "metadata": {
            "tags": []
          }
        },
        {
          "output_type": "display_data",
          "data": {
            "image/png": "[encoded data removed]",
            "text/plain": [
              "<Figure size 432x288 with 1 Axes>"
            ]
          },
          "metadata": {
            "tags": []
          }
        }
      ]
    },
    {
      "cell_type": "markdown",
      "metadata": {
        "id": "NKeMsUcHIpJe",
        "colab_type": "text"
      },
      "source": [
        "**Predicting test set**"
      ]
    },
    {
      "cell_type": "code",
      "metadata": {
        "id": "xQsJbUzPIsri",
        "colab_type": "code",
        "outputId": "6b0e56e3-40f9-4435-98ac-7ca40065e86e",
        "colab": {
          "base_uri": "https://localhost:8080/",
          "height": 1000
        }
      },
      "source": [
        "#Confution Matrix and Classification Report\n",
        "Y_pred = custom_model.predict_generator(generator_test)\n",
        "y_pred = np.argmax(Y_pred, axis=1)\n",
        "y_truth = generator_test.classes[generator_test.index_array]\n",
        "print('Accuracy on test set is: %.2f' %(100*(y_pred == y_truth).sum()/len(y_truth)))\n",
        "\n",
        "cm = confusion_matrix(y_truth, y_pred)\n",
        "fig, ax = plt.subplots(1, 1, figsize=(12,10))\n",
        "df_cm = pd.DataFrame(cm, index = [i for i in class_names],\n",
        "                  columns = [i for i in class_names])\n",
        "sns.heatmap(cm)\n",
        "fig.suptitle('Confusion matrix', fontsize=16)\n",
        "plt.xlabel('Prediction', fontsize=12)\n",
        "plt.ylabel('Actual', fontsize=12)\n",
        "plt.show()\n",
        "\n",
        "print('Classification Report')\n",
        "print(classification_report(y_truth, y_pred, target_names=class_names))"
      ],
      "execution_count": 43,
      "outputs": [
        {
          "output_type": "stream",
          "text": [
            "Accuracy on test set is: 15.04\n"
          ],
          "name": "stdout"
        },
        {
          "output_type": "display_data",
          "data": {
            "image/png": "[encoded data removed]",
            "text/plain": [
              "<Figure size 864x720 with 2 Axes>"
            ]
          },
          "metadata": {
            "tags": []
          }
        },
        {
          "output_type": "stream",
          "text": [
            "Classification Report\n",
            "                                precision    recall  f1-score   support\n",
            "\n",
            "                     Chihuahua       0.04      0.03      0.04        31\n",
            "              Japanese_spaniel       0.48      0.30      0.37        37\n",
            "                   Maltese_dog       0.19      0.22      0.20        51\n",
            "                      Pekinese       0.12      0.07      0.09        30\n",
            "                          Shih       0.03      0.02      0.02        43\n",
            "              Blenheim_spaniel       0.18      0.16      0.17        38\n",
            "                      papillon       0.26      0.23      0.24        40\n",
            "                   toy_terrier       0.10      0.17      0.13        35\n",
            "           Rhodesian_ridgeback       0.08      0.11      0.09        35\n",
            "                  Afghan_hound       0.17      0.40      0.24        48\n",
            "                        basset       0.04      0.03      0.03        35\n",
            "                        beagle       0.11      0.05      0.07        39\n",
            "                    bloodhound       0.10      0.16      0.12        38\n",
            "                      bluetick       0.08      0.09      0.08        35\n",
            "                         black       0.20      0.09      0.13        32\n",
            "                  Walker_hound       0.08      0.03      0.05        31\n",
            "              English_foxhound       0.31      0.34      0.32        32\n",
            "                       redbone       0.00      0.00      0.00        30\n",
            "                        borzoi       0.03      0.03      0.03        31\n",
            "               Irish_wolfhound       0.04      0.05      0.04        44\n",
            "             Italian_greyhound       0.04      0.08      0.06        37\n",
            "                       whippet       0.07      0.08      0.08        38\n",
            "                  Ibizan_hound       0.08      0.11      0.09        38\n",
            "            Norwegian_elkhound       0.23      0.20      0.21        40\n",
            "                    otterhound       0.17      0.10      0.12        31\n",
            "                        Saluki       0.09      0.12      0.10        40\n",
            "            Scottish_deerhound       0.18      0.38      0.25        47\n",
            "                    Weimaraner       0.15      0.06      0.09        32\n",
            "     Staffordshire_bullterrier       0.12      0.10      0.11        31\n",
            "American_Staffordshire_terrier       0.09      0.03      0.05        33\n",
            "            Bedlington_terrier       0.29      0.24      0.26        37\n",
            "                Border_terrier       0.13      0.29      0.18        35\n",
            "            Kerry_blue_terrier       0.24      0.25      0.25        36\n",
            "                 Irish_terrier       0.09      0.15      0.11        34\n",
            "               Norfolk_terrier       0.14      0.09      0.11        35\n",
            "               Norwich_terrier       0.10      0.11      0.11        37\n",
            "             Yorkshire_terrier       0.00      0.00      0.00        33\n",
            "                          wire       0.55      0.19      0.28        32\n",
            "              Lakeland_terrier       0.07      0.05      0.06        40\n",
            "              Sealyham_terrier       0.28      0.32      0.30        41\n",
            "                      Airedale       0.08      0.10      0.09        41\n",
            "                         cairn       0.12      0.07      0.09        40\n",
            "            Australian_terrier       0.19      0.20      0.20        40\n",
            "                Dandie_Dinmont       0.16      0.28      0.20        36\n",
            "                   Boston_bull       0.10      0.14      0.11        37\n",
            "           miniature_schnauzer       0.07      0.03      0.04        31\n",
            "               giant_schnauzer       0.12      0.25      0.16        32\n",
            "            standard_schnauzer       0.00      0.00      0.00        31\n",
            "                Scotch_terrier       0.16      0.31      0.21        32\n",
            "               Tibetan_terrier       0.12      0.10      0.11        42\n",
            "                 silky_terrier       0.28      0.19      0.23        37\n",
            "                          soft       0.15      0.06      0.09        32\n",
            "   West_Highland_white_terrier       0.15      0.15      0.15        34\n",
            "                         Lhasa       0.14      0.08      0.10        38\n",
            "                          flat       0.14      0.10      0.11        31\n",
            "                         curly       0.15      0.16      0.16        31\n",
            "              golden_retriever       0.11      0.03      0.05        30\n",
            "            Labrador_retriever       0.00      0.00      0.00        35\n",
            "      Chesapeake_Bay_retriever       0.08      0.15      0.10        34\n",
            "                  German_short       0.10      0.23      0.14        31\n",
            "                        vizsla       0.21      0.19      0.20        31\n",
            "                English_setter       0.00      0.00      0.00        33\n",
            "                  Irish_setter       0.21      0.16      0.18        31\n",
            "                 Gordon_setter       0.03      0.03      0.03        31\n",
            "              Brittany_spaniel       0.25      0.16      0.20        31\n",
            "                       clumber       0.16      0.20      0.18        30\n",
            "              English_springer       0.20      0.25      0.22        32\n",
            "        Welsh_springer_spaniel       0.17      0.23      0.20        30\n",
            "                cocker_spaniel       0.00      0.00      0.00        32\n",
            "                Sussex_spaniel       0.33      0.42      0.37        31\n",
            "           Irish_water_spaniel       0.22      0.50      0.30        30\n",
            "                        kuvasz       0.20      0.20      0.20        30\n",
            "                    schipperke       0.14      0.10      0.11        31\n",
            "                   groenendael       0.10      0.17      0.12        30\n",
            "                      malinois       0.12      0.10      0.11        30\n",
            "                        briard       0.20      0.03      0.06        31\n",
            "                        kelpie       0.00      0.00      0.00        31\n",
            "                      komondor       0.34      0.48      0.40        31\n",
            "          Old_English_sheepdog       0.17      0.15      0.16        34\n",
            "             Shetland_sheepdog       0.38      0.09      0.15        32\n",
            "                        collie       0.13      0.06      0.09        31\n",
            "                 Border_collie       0.13      0.10      0.11        30\n",
            "          Bouvier_des_Flandres       0.15      0.20      0.17        30\n",
            "                    Rottweiler       0.26      0.29      0.27        31\n",
            "               German_shepherd       0.17      0.03      0.05        31\n",
            "                      Doberman       0.00      0.00      0.00        30\n",
            "            miniature_pinscher       0.12      0.24      0.16        37\n",
            "    Greater_Swiss_Mountain_dog       0.10      0.18      0.13        34\n",
            "          Bernese_mountain_dog       0.33      0.11      0.17        44\n",
            "                   Appenzeller       0.09      0.06      0.08        31\n",
            "                   EntleBucher       0.63      0.29      0.40        41\n",
            "                         boxer       0.04      0.03      0.04        31\n",
            "                  bull_mastiff       0.06      0.03      0.04        32\n",
            "               Tibetan_mastiff       0.00      0.00      0.00        31\n",
            "                French_bulldog       0.06      0.03      0.04        32\n",
            "                    Great_Dane       0.12      0.09      0.11        32\n",
            "                 Saint_Bernard       0.30      0.18      0.22        34\n",
            "                    Eskimo_dog       0.00      0.00      0.00        30\n",
            "                      malamute       0.14      0.08      0.11        36\n",
            "                Siberian_husky       0.06      0.05      0.05        39\n",
            "                 affenpinscher       0.25      0.10      0.14        30\n",
            "                       basenji       0.20      0.36      0.26        42\n",
            "                           pug       0.06      0.12      0.08        40\n",
            "                      Leonberg       0.36      0.48      0.41        42\n",
            "                  Newfoundland       0.18      0.15      0.16        39\n",
            "                Great_Pyrenees       0.14      0.33      0.19        43\n",
            "                       Samoyed       0.15      0.18      0.17        44\n",
            "                    Pomeranian       0.14      0.16      0.15        44\n",
            "                          chow       0.11      0.10      0.11        40\n",
            "                      keeshond       0.40      0.25      0.31        32\n",
            "             Brabancon_griffon       0.30      0.39      0.34        31\n",
            "                      Pembroke       0.21      0.22      0.21        37\n",
            "                      Cardigan       0.07      0.03      0.04        31\n",
            "                    toy_poodle       0.00      0.00      0.00        31\n",
            "              miniature_poodle       0.00      0.00      0.00        31\n",
            "               standard_poodle       0.00      0.00      0.00        32\n",
            "              Mexican_hairless       0.19      0.26      0.22        31\n",
            "                         dingo       0.16      0.19      0.17        32\n",
            "                         dhole       0.39      0.30      0.34        30\n",
            "           African_hunting_dog       0.34      0.32      0.33        34\n",
            "\n",
            "                      accuracy                           0.15      4162\n",
            "                     macro avg       0.15      0.15      0.14      4162\n",
            "                  weighted avg       0.15      0.15      0.14      4162\n",
            "\n"
          ],
          "name": "stdout"
        }
      ]
    }
  ]
}
